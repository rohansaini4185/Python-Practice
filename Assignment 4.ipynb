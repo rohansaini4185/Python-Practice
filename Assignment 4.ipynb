{
 "cells": [
  {
   "cell_type": "code",
   "execution_count": 11,
   "metadata": {},
   "outputs": [
    {
     "name": "stdout",
     "output_type": "stream",
     "text": [
      "The area of traingle is 43.30\n"
     ]
    }
   ],
   "source": [
    "#Write a Python Program(with class concepts) to find the area of the triangle using the below\n",
    "#formula.\n",
    "\n",
    "class Triangle:\n",
    "    def __init__(self,a,b,c):\n",
    "        self.a=a\n",
    "        self.b=b\n",
    "        self.c=c\n",
    "class Area(Triangle):     \n",
    "    def __init__(self,*args):\n",
    "        super(Area, self).__init__(*args) \n",
    "    def get_area(self):                     \n",
    "        s=(self.a+self.b+self.c)/2\n",
    "        area = (s*(s-self.a)*(s-self.b)*(s-self.c))**0.5    \n",
    "        return area\n",
    "    \n",
    "sides = Area(10,10,10)\n",
    "result = sides.get_area()\n",
    "print(f'The area of traingle is {result:.2f}')"
   ]
  },
  {
   "cell_type": "code",
   "execution_count": 7,
   "metadata": {},
   "outputs": [
    {
     "name": "stdout",
     "output_type": "stream",
     "text": [
      "Enter words seperated by spaces : Red Blue Green Umbrella\n",
      "Enter length of words you want to filter : 4\n",
      "['Green', 'Umbrella']\n"
     ]
    }
   ],
   "source": [
    "#Write a function filter_long_words() that takes a list of words and \n",
    "#an integer n and returns the list of words that are longer than n.\n",
    "\n",
    "def filter_words():\n",
    "    words=input(\"Enter words seperated by spaces : \")\n",
    "    length=int(input(\"Enter length of words you want to filter : \"))\n",
    "    mylist=words.split()\n",
    "    words=[]\n",
    "    for i in mylist:\n",
    "        if len(i)>length:\n",
    "            words.append(i)\n",
    "    print(words)\n",
    "    \n",
    "filter_words()"
   ]
  },
  {
   "cell_type": "code",
   "execution_count": 8,
   "metadata": {},
   "outputs": [
    {
     "name": "stdout",
     "output_type": "stream",
     "text": [
      "Enter words separated by space: Red Green Blue\n"
     ]
    },
    {
     "data": {
      "text/plain": [
       "[3, 5, 4]"
      ]
     },
     "execution_count": 8,
     "metadata": {},
     "output_type": "execute_result"
    }
   ],
   "source": [
    "#Write a Python program using function concept that maps list of words into a list of integers\n",
    "#representing the lengths of the corresponding words\n",
    "\n",
    "def len_of_words():\n",
    "    input_string = input(\"Enter words separated by space: \")\n",
    "    word_list = input_string.split()\n",
    "    words_len = [len(words) for words in word_list]\n",
    "    return words_len\n",
    "\n",
    "len_of_words()"
   ]
  },
  {
   "cell_type": "code",
   "execution_count": 10,
   "metadata": {},
   "outputs": [
    {
     "name": "stdout",
     "output_type": "stream",
     "text": [
      "Enter a character : i\n",
      "True\n"
     ]
    }
   ],
   "source": [
    "#Write a Python function which takes a character (i.e. a string of length 1) and returns True if it is\n",
    "#a vowel, False otherwise\n",
    "\n",
    "vowels=['a','e','i','o','u']\n",
    "x=input(\"Enter a character : \")\n",
    "if x in vowels:\n",
    "    print(True)\n",
    "else:\n",
    "    print(False)"
   ]
  },
  {
   "cell_type": "code",
   "execution_count": null,
   "metadata": {},
   "outputs": [],
   "source": []
  }
 ],
 "metadata": {
  "kernelspec": {
   "display_name": "Python 3",
   "language": "python",
   "name": "python3"
  },
  "language_info": {
   "codemirror_mode": {
    "name": "ipython",
    "version": 3
   },
   "file_extension": ".py",
   "mimetype": "text/x-python",
   "name": "python",
   "nbconvert_exporter": "python",
   "pygments_lexer": "ipython3",
   "version": "3.7.6"
  }
 },
 "nbformat": 4,
 "nbformat_minor": 4
}
